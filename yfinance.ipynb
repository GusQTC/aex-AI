{
 "cells": [
  {
   "cell_type": "code",
   "execution_count": 2,
   "metadata": {},
   "outputs": [
    {
     "name": "stdout",
     "output_type": "stream",
     "text": [
      "Date\n",
      "2010-01-04 00:00:00-05:00      6.454506\n",
      "2010-01-05 00:00:00-05:00      6.465665\n",
      "2010-01-06 00:00:00-05:00      6.362820\n",
      "2010-01-07 00:00:00-05:00      6.351057\n",
      "2010-01-08 00:00:00-05:00      6.393281\n",
      "                                ...    \n",
      "2020-12-23 00:00:00-05:00    128.200790\n",
      "2020-12-24 00:00:00-05:00    129.189514\n",
      "2020-12-28 00:00:00-05:00    133.810074\n",
      "2020-12-29 00:00:00-05:00    132.028397\n",
      "2020-12-30 00:00:00-05:00    130.902634\n",
      "Name: Close, Length: 2768, dtype: float64\n"
     ]
    }
   ],
   "source": [
    "import yfinance as yf\n",
    "\n",
    "# Define the ticker symbol\n",
    "tickerSymbol = 'AAPL'\n",
    "\n",
    "# Get data on this ticker\n",
    "tickerData = yf.Ticker(tickerSymbol)\n",
    "\n",
    "# Get the historical prices for this ticker\n",
    "tickerDf = tickerData.history(period='1d', start='2010-1-1', end='2020-12-31')\n",
    "tickerDf = tickerDf[\"Close\"]\n",
    "# See your data\n",
    "print(tickerDf)\n",
    "\n",
    "# Save data to csv file\n",
    "tickerDf.to_csv('stock_data.csv')"
   ]
  }
 ],
 "metadata": {
  "kernelspec": {
   "display_name": "Python 3",
   "language": "python",
   "name": "python3"
  },
  "language_info": {
   "codemirror_mode": {
    "name": "ipython",
    "version": 3
   },
   "file_extension": ".py",
   "mimetype": "text/x-python",
   "name": "python",
   "nbconvert_exporter": "python",
   "pygments_lexer": "ipython3",
   "version": "3.12.6"
  }
 },
 "nbformat": 4,
 "nbformat_minor": 2
}
